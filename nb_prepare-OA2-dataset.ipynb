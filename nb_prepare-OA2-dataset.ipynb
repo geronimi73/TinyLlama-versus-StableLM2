{
 "cells": [
  {
   "cell_type": "code",
   "execution_count": 1,
   "id": "0be40bf5-c1c7-4b77-8328-e4d2798bc3cf",
   "metadata": {},
   "outputs": [
    {
     "name": "stdout",
     "output_type": "stream",
     "text": [
      "fatal: destination path 'deep_4_all' already exists and is not an empty directory.\n",
      "Defaulting to user installation because normal site-packages is not writeable\n",
      "Requirement already satisfied: pydantic==1.10.7 in /home/g/.local/lib/python3.10/site-packages (from -r requirements.txt (line 1)) (1.10.7)\n",
      "Requirement already satisfied: loguru==0.6.0 in /home/g/.local/lib/python3.10/site-packages (from -r requirements.txt (line 2)) (0.6.0)\n",
      "Requirement already satisfied: datasets>=2.12.0 in /home/g/.local/lib/python3.10/site-packages (from -r requirements.txt (line 3)) (2.16.1)\n",
      "Requirement already satisfied: torch in /home/g/.local/lib/python3.10/site-packages (from -r requirements.txt (line 4)) (2.1.0)\n",
      "Requirement already satisfied: typing-extensions>=4.2.0 in /home/g/.local/lib/python3.10/site-packages (from pydantic==1.10.7->-r requirements.txt (line 1)) (4.8.0)\n",
      "Requirement already satisfied: filelock in /home/g/.local/lib/python3.10/site-packages (from datasets>=2.12.0->-r requirements.txt (line 3)) (3.13.1)\n",
      "Requirement already satisfied: numpy>=1.17 in /home/g/.local/lib/python3.10/site-packages (from datasets>=2.12.0->-r requirements.txt (line 3)) (1.26.3)\n",
      "Requirement already satisfied: pyarrow>=8.0.0 in /home/g/.local/lib/python3.10/site-packages (from datasets>=2.12.0->-r requirements.txt (line 3)) (11.0.0)\n",
      "Requirement already satisfied: pyarrow-hotfix in /home/g/.local/lib/python3.10/site-packages (from datasets>=2.12.0->-r requirements.txt (line 3)) (0.6)\n",
      "Requirement already satisfied: dill<0.3.8,>=0.3.0 in /home/g/.local/lib/python3.10/site-packages (from datasets>=2.12.0->-r requirements.txt (line 3)) (0.3.7)\n",
      "Requirement already satisfied: pandas in /home/g/.local/lib/python3.10/site-packages (from datasets>=2.12.0->-r requirements.txt (line 3)) (2.1.4)\n",
      "Requirement already satisfied: requests>=2.19.0 in /home/g/.local/lib/python3.10/site-packages (from datasets>=2.12.0->-r requirements.txt (line 3)) (2.31.0)\n",
      "Requirement already satisfied: tqdm>=4.62.1 in /home/g/.local/lib/python3.10/site-packages (from datasets>=2.12.0->-r requirements.txt (line 3)) (4.66.1)\n",
      "Requirement already satisfied: xxhash in /home/g/.local/lib/python3.10/site-packages (from datasets>=2.12.0->-r requirements.txt (line 3)) (3.3.0)\n",
      "Requirement already satisfied: multiprocess in /home/g/.local/lib/python3.10/site-packages (from datasets>=2.12.0->-r requirements.txt (line 3)) (0.70.15)\n",
      "Requirement already satisfied: fsspec<=2023.10.0,>=2023.1.0 in /home/g/.local/lib/python3.10/site-packages (from fsspec[http]<=2023.10.0,>=2023.1.0->datasets>=2.12.0->-r requirements.txt (line 3)) (2023.6.0)\n",
      "Requirement already satisfied: aiohttp in /home/g/.local/lib/python3.10/site-packages (from datasets>=2.12.0->-r requirements.txt (line 3)) (3.8.5)\n",
      "Requirement already satisfied: huggingface-hub>=0.19.4 in /home/g/.local/lib/python3.10/site-packages (from datasets>=2.12.0->-r requirements.txt (line 3)) (0.19.4)\n",
      "Requirement already satisfied: packaging in /home/g/.local/lib/python3.10/site-packages (from datasets>=2.12.0->-r requirements.txt (line 3)) (23.2)\n",
      "Requirement already satisfied: pyyaml>=5.1 in /home/g/.local/lib/python3.10/site-packages (from datasets>=2.12.0->-r requirements.txt (line 3)) (6.0.1)\n",
      "Requirement already satisfied: sympy in /usr/lib/python3/dist-packages (from torch->-r requirements.txt (line 4)) (1.9)\n",
      "Requirement already satisfied: networkx in /home/g/.local/lib/python3.10/site-packages (from torch->-r requirements.txt (line 4)) (3.1)\n",
      "Requirement already satisfied: jinja2 in /home/g/.local/lib/python3.10/site-packages (from torch->-r requirements.txt (line 4)) (3.1.2)\n",
      "Requirement already satisfied: nvidia-cuda-nvrtc-cu12==12.1.105 in /home/g/.local/lib/python3.10/site-packages (from torch->-r requirements.txt (line 4)) (12.1.105)\n",
      "Requirement already satisfied: nvidia-cuda-runtime-cu12==12.1.105 in /home/g/.local/lib/python3.10/site-packages (from torch->-r requirements.txt (line 4)) (12.1.105)\n",
      "Requirement already satisfied: nvidia-cuda-cupti-cu12==12.1.105 in /home/g/.local/lib/python3.10/site-packages (from torch->-r requirements.txt (line 4)) (12.1.105)\n",
      "Requirement already satisfied: nvidia-cudnn-cu12==8.9.2.26 in /home/g/.local/lib/python3.10/site-packages (from torch->-r requirements.txt (line 4)) (8.9.2.26)\n",
      "Requirement already satisfied: nvidia-cublas-cu12==12.1.3.1 in /home/g/.local/lib/python3.10/site-packages (from torch->-r requirements.txt (line 4)) (12.1.3.1)\n",
      "Requirement already satisfied: nvidia-cufft-cu12==11.0.2.54 in /home/g/.local/lib/python3.10/site-packages (from torch->-r requirements.txt (line 4)) (11.0.2.54)\n",
      "Requirement already satisfied: nvidia-curand-cu12==10.3.2.106 in /home/g/.local/lib/python3.10/site-packages (from torch->-r requirements.txt (line 4)) (10.3.2.106)\n",
      "Requirement already satisfied: nvidia-cusolver-cu12==11.4.5.107 in /home/g/.local/lib/python3.10/site-packages (from torch->-r requirements.txt (line 4)) (11.4.5.107)\n",
      "Requirement already satisfied: nvidia-cusparse-cu12==12.1.0.106 in /home/g/.local/lib/python3.10/site-packages (from torch->-r requirements.txt (line 4)) (12.1.0.106)\n",
      "Requirement already satisfied: nvidia-nccl-cu12==2.18.1 in /home/g/.local/lib/python3.10/site-packages (from torch->-r requirements.txt (line 4)) (2.18.1)\n",
      "Requirement already satisfied: nvidia-nvtx-cu12==12.1.105 in /home/g/.local/lib/python3.10/site-packages (from torch->-r requirements.txt (line 4)) (12.1.105)\n",
      "Requirement already satisfied: triton==2.1.0 in /home/g/.local/lib/python3.10/site-packages (from torch->-r requirements.txt (line 4)) (2.1.0)\n",
      "Requirement already satisfied: nvidia-nvjitlink-cu12 in /home/g/.local/lib/python3.10/site-packages (from nvidia-cusolver-cu12==11.4.5.107->torch->-r requirements.txt (line 4)) (12.2.140)\n",
      "Requirement already satisfied: attrs>=17.3.0 in /home/g/.local/lib/python3.10/site-packages (from aiohttp->datasets>=2.12.0->-r requirements.txt (line 3)) (23.1.0)\n",
      "Requirement already satisfied: charset-normalizer<4.0,>=2.0 in /home/g/.local/lib/python3.10/site-packages (from aiohttp->datasets>=2.12.0->-r requirements.txt (line 3)) (3.2.0)\n",
      "Requirement already satisfied: multidict<7.0,>=4.5 in /home/g/.local/lib/python3.10/site-packages (from aiohttp->datasets>=2.12.0->-r requirements.txt (line 3)) (6.0.4)\n",
      "Requirement already satisfied: async-timeout<5.0,>=4.0.0a3 in /home/g/.local/lib/python3.10/site-packages (from aiohttp->datasets>=2.12.0->-r requirements.txt (line 3)) (4.0.3)\n",
      "Requirement already satisfied: yarl<2.0,>=1.0 in /home/g/.local/lib/python3.10/site-packages (from aiohttp->datasets>=2.12.0->-r requirements.txt (line 3)) (1.9.2)\n",
      "Requirement already satisfied: frozenlist>=1.1.1 in /home/g/.local/lib/python3.10/site-packages (from aiohttp->datasets>=2.12.0->-r requirements.txt (line 3)) (1.4.0)\n",
      "Requirement already satisfied: aiosignal>=1.1.2 in /home/g/.local/lib/python3.10/site-packages (from aiohttp->datasets>=2.12.0->-r requirements.txt (line 3)) (1.3.1)\n",
      "Requirement already satisfied: idna<4,>=2.5 in /usr/lib/python3/dist-packages (from requests>=2.19.0->datasets>=2.12.0->-r requirements.txt (line 3)) (3.3)\n",
      "Requirement already satisfied: urllib3<3,>=1.21.1 in /home/g/.local/lib/python3.10/site-packages (from requests>=2.19.0->datasets>=2.12.0->-r requirements.txt (line 3)) (1.26.16)\n",
      "Requirement already satisfied: certifi>=2017.4.17 in /home/g/.local/lib/python3.10/site-packages (from requests>=2.19.0->datasets>=2.12.0->-r requirements.txt (line 3)) (2023.11.17)\n",
      "Requirement already satisfied: MarkupSafe>=2.0 in /home/g/.local/lib/python3.10/site-packages (from jinja2->torch->-r requirements.txt (line 4)) (2.1.3)\n",
      "Requirement already satisfied: python-dateutil>=2.8.2 in /home/g/.local/lib/python3.10/site-packages (from pandas->datasets>=2.12.0->-r requirements.txt (line 3)) (2.8.2)\n",
      "Requirement already satisfied: pytz>=2020.1 in /usr/lib/python3/dist-packages (from pandas->datasets>=2.12.0->-r requirements.txt (line 3)) (2022.1)\n",
      "Requirement already satisfied: tzdata>=2022.1 in /home/g/.local/lib/python3.10/site-packages (from pandas->datasets>=2.12.0->-r requirements.txt (line 3)) (2023.3)\n",
      "Requirement already satisfied: six>=1.5 in /usr/lib/python3/dist-packages (from python-dateutil>=2.8.2->pandas->datasets>=2.12.0->-r requirements.txt (line 3)) (1.16.0)\n"
     ]
    }
   ],
   "source": [
    "!git clone https://github.com/blancsw/deep_4_all\n",
    "import os,sys,datasets\n",
    "os.chdir(\"deep_4_all/datasets/oasst\")\n",
    "!pip install -r requirements.txt\n",
    "from convert import load_oasst_export"
   ]
  },
  {
   "cell_type": "code",
   "execution_count": 2,
   "id": "4ac16ef4-6b9c-4517-9572-83ff99a9db63",
   "metadata": {},
   "outputs": [
    {
     "name": "stderr",
     "output_type": "stream",
     "text": [
      "/usr/lib/python3/dist-packages/scipy/__init__.py:146: UserWarning: A NumPy version >=1.17.3 and <1.25.0 is required for this version of SciPy (detected version 1.26.3\n",
      "  warnings.warn(f\"A NumPy version >={np_minversion} and <{np_maxversion}\"\n"
     ]
    }
   ],
   "source": [
    "dataset = load_oasst_export(\n",
    "    hf_dataset_name=\"OpenAssistant/oasst2\",\n",
    "    top_k=1, \n",
    "    lang=\"en\"\n",
    ")\n",
    "formated = []\n",
    "for conversation in dataset.data:\n",
    "    formated.append(conversation.get_formatted())\n",
    "\n",
    "ds = datasets.Dataset.from_dict({\"conversation\": formated})\n",
    "\n",
    "# push dataset to hub\n",
    "# ds.push_to_hub(\"g-ronimo/oasst2_top1_en\")"
   ]
  },
  {
   "cell_type": "code",
   "execution_count": 3,
   "id": "b0cf3b39-f8fa-446b-9375-e6d0919ff315",
   "metadata": {},
   "outputs": [
    {
     "data": {
      "text/plain": [
       "Dataset({\n",
       "    features: ['conversation'],\n",
       "    num_rows: 5419\n",
       "})"
      ]
     },
     "execution_count": 3,
     "metadata": {},
     "output_type": "execute_result"
    }
   ],
   "source": [
    "ds"
   ]
  },
  {
   "cell_type": "code",
   "execution_count": 4,
   "id": "6de95fba-386b-4544-837b-0848083a0cbb",
   "metadata": {},
   "outputs": [
    {
     "name": "stdout",
     "output_type": "stream",
     "text": [
      "user: I am making mayonnaise, it was starting to thicken but now it has become runny and liquid again, is there any way to salvage it?\n",
      "assistant: Yes, it's possible to fix runny mayonnaise! The most common reason for mayonnaise becoming runny is because the oil was added too quickly or the egg yolk wasn't emulsified properly. Here are some steps you can take to fix it:\n",
      "\n",
      "1. Separate another egg yolk and place it in a clean, dry bowl.\n",
      "2. Slowly add the runny mayonnaise to the egg yolk while whisking vigorously.\n",
      "3. Once all the runny mayonnaise has been added, continue whisking until the mixture has emulsified and thickened.\n",
      "4. If the mayonnaise is still too runny, you can add another egg yolk and repeat the process.\n",
      "\n",
      "If the mayonnaise still won't thicken, you can try adding a small amount of dijon mustard or vinegar to the mixture, which can act as emulsifiers and help stabilize the mayonnaise. It's important to add these ingredients slowly and in small amounts to avoid over-thinning the mixture.\n",
      "user: What is optimal Mayonnaise thickness?\n",
      "assistant: The optimal mayonnaise thickness will depend on how it is being used. A runny mayonnaise may be good in chicken salad while a thicker mayonnaise may be better spread over a hamburger bun. The only way to determine your personal preference is to test different levels of viscosity in with different foods.\n"
     ]
    }
   ],
   "source": [
    "for msg in ds[0][\"conversation\"]:\n",
    "    print(f\"{msg['role']}: {msg['content']}\")"
   ]
  },
  {
   "cell_type": "code",
   "execution_count": 4,
   "id": "47206c81-1e28-44b7-a7e5-bafdf49f5dea",
   "metadata": {},
   "outputs": [],
   "source": [
    "from datasets import load_dataset\n",
    "\n",
    "dataset_name=\"g-ronimo/oasst2_top1_en\"\n",
    "dataset = load_dataset(dataset_name)"
   ]
  },
  {
   "cell_type": "code",
   "execution_count": 8,
   "id": "367d8851-c574-437d-a538-d6f149ad2745",
   "metadata": {},
   "outputs": [
    {
     "name": "stdout",
     "output_type": "stream",
     "text": [
      "{\n",
      "  \"conversation\": [\n",
      "    {\n",
      "      \"content\": \"I am making mayonnaise, it was starting to thicken but now it has become runny and liquid again, is there any way to salvage it?\",\n",
      "      \"role\": \"user\"\n",
      "    },\n",
      "    {\n",
      "      \"content\": \"Yes, it's possible to fix runny mayonnaise! The most common reason for mayonnaise becoming runny is because the oil was added too quickly or the egg yolk wasn't emulsified properly. Here are some steps you can take to fix it:\\n\\n1. Separate another egg yolk and place it in a clean, dry bowl.\\n2. Slowly add the runny mayonnaise to the egg yolk while whisking vigorously.\\n3. Once all the runny mayonnaise has been added, continue whisking until the mixture has emulsified and thickened.\\n4. If the mayonnaise is still too runny, you can add another egg yolk and repeat the process.\\n\\nIf the mayonnaise still won't thicken, you can try adding a small amount of dijon mustard or vinegar to the mixture, which can act as emulsifiers and help stabilize the mayonnaise. It's important to add these ingredients slowly and in small amounts to avoid over-thinning the mixture.\",\n",
      "      \"role\": \"assistant\"\n",
      "    },\n",
      "    {\n",
      "      \"content\": \"What is optimal Mayonnaise thickness?\",\n",
      "      \"role\": \"user\"\n",
      "    },\n",
      "    {\n",
      "      \"content\": \"The optimal mayonnaise thickness will depend on how it is being used. A runny mayonnaise may be good in chicken salad while a thicker mayonnaise may be better spread over a hamburger bun. The only way to determine your personal preference is to test different levels of viscosity in with different foods.\",\n",
      "      \"role\": \"assistant\"\n",
      "    }\n",
      "  ]\n",
      "}\n"
     ]
    }
   ],
   "source": [
    "import json\n",
    "print(json.dumps(dataset[\"train\"][0], indent=2))"
   ]
  }
 ],
 "metadata": {
  "kernelspec": {
   "display_name": "Python 3 (ipykernel)",
   "language": "python",
   "name": "python3"
  },
  "language_info": {
   "codemirror_mode": {
    "name": "ipython",
    "version": 3
   },
   "file_extension": ".py",
   "mimetype": "text/x-python",
   "name": "python",
   "nbconvert_exporter": "python",
   "pygments_lexer": "ipython3",
   "version": "3.10.12"
  }
 },
 "nbformat": 4,
 "nbformat_minor": 5
}
